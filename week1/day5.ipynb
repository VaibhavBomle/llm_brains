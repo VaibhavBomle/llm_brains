{
 "cells": [
  {
   "cell_type": "markdown",
   "id": "3d62f1c0",
   "metadata": {},
   "source": [
    "\n",
    "we will take our projects from Day 1 \n",
    "Business Challenge:\n",
    "Create a product that builds a Brochure for a company to be used for prospective clients, investors and potential recruits.\n",
    "We will be provided a company name and their primary website."
   ]
  },
  {
   "cell_type": "code",
   "execution_count": 1,
   "id": "7028713d",
   "metadata": {},
   "outputs": [],
   "source": [
    "import os\n",
    "import requests\n",
    "import json\n",
    "from typing import List\n",
    "from dotenv import load_dotenv\n",
    "from bs4 import BeautifulSoup\n",
    "from IPython.display import Markdown,display,update_display\n",
    "from openai import OpenAI"
   ]
  },
  {
   "cell_type": "code",
   "execution_count": 2,
   "id": "ab8fe2b3",
   "metadata": {},
   "outputs": [
    {
     "name": "stdout",
     "output_type": "stream",
     "text": [
      "API Key looks good\n"
     ]
    }
   ],
   "source": [
    "load_dotenv()\n",
    "api_key = os.getenv('OPENAI_API_KEY')\n",
    "\n",
    "if api_key and api_key[:8] == 'sk-proj-':\n",
    "    print(\"API Key looks good\")\n",
    "else:\n",
    "    print(\"Issue getting API Key\")"
   ]
  },
  {
   "cell_type": "code",
   "execution_count": 3,
   "id": "46c0d4b4",
   "metadata": {},
   "outputs": [],
   "source": [
    "# Class represent webpage\n",
    "\n",
    "# Some websites need you to use proper headers when fetching them:\n",
    "headers = {\n",
    " \"User-Agent\": \"Mozilla/5.0 (Windows NT 10.0; Win64; x64) AppleWebKit/537.36 (KHTML, like Gecko) Chrome/117.0.0.0 Safari/537.36\"\n",
    "}\n",
    "\n",
    "class Website:\n",
    "    \"\"\"Class to represent website that we have scraped , now with links\"\"\"\n",
    "\n",
    "    def __init__(self,url):\n",
    "        self.url = url\n",
    "        response = requests.get(url,headers=headers)\n",
    "        self.body = response.content\n",
    "        soup = BeautifulSoup(self.body,'html.parser')\n",
    "        self.title = soup.title.string if soup.title else \"No title found\"\n",
    "        if soup.body:\n",
    "            for irrelevant in soup.body([\"script\",\"style\",\"img\",\"input\"]):\n",
    "                irrelevant.decompose()\n",
    "            self.text = soup.body.get_text(separator=\"\\n\",strip=True)\n",
    "        else:\n",
    "            self.text = \"\"\n",
    "        \n",
    "        links = [link.get('href') for link in soup.find_all('a')]\n",
    "        self.links = [link for link in links if link]\n",
    "    \n",
    "    def get_contents(self):\n",
    "        return f\"Webpage Title:\\n{self.title}\\nWebpage Contents:\\n{self.text}\\n\\n\"\n",
    "        \n",
    "        "
   ]
  },
  {
   "cell_type": "code",
   "execution_count": null,
   "id": "5e68fafd",
   "metadata": {},
   "outputs": [],
   "source": [
    "ed = Website()\n",
    "ed.links"
   ]
  }
 ],
 "metadata": {
  "kernelspec": {
   "display_name": ".venv",
   "language": "python",
   "name": "python3"
  },
  "language_info": {
   "codemirror_mode": {
    "name": "ipython",
    "version": 3
   },
   "file_extension": ".py",
   "mimetype": "text/x-python",
   "name": "python",
   "nbconvert_exporter": "python",
   "pygments_lexer": "ipython3",
   "version": "3.10.6"
  }
 },
 "nbformat": 4,
 "nbformat_minor": 5
}
