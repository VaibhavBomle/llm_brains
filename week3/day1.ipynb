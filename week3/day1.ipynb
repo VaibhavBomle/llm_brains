{
 "cells": [
  {
   "cell_type": "markdown",
   "id": "1012dd72",
   "metadata": {},
   "source": [
    "# Introducing Colab\n",
    "\n",
    "About Google colab and setup\n",
    "\n",
    "We can use free tier or Colab Pro+\n",
    "\n",
    "Colab link:\n",
    "https://colab.research.google.com/drive/1D9tAP0hpFAVGitmQoH2GdshUuT6CQdFL#scrollTo=KJBqrzMkfNgR"
   ]
  }
 ],
 "metadata": {
  "language_info": {
   "name": "python"
  }
 },
 "nbformat": 4,
 "nbformat_minor": 5
}
