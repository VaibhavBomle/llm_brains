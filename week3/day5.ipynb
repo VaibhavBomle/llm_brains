{
 "cells": [
  {
   "cell_type": "markdown",
   "id": "8177d4af",
   "metadata": {},
   "source": [
    "# Meeting notes\n",
    "\n",
    "colab link : https://colab.research.google.com/drive/1AuC1xXkTawWqB8cnuZzGku-nVRmVQea3"
   ]
  }
 ],
 "metadata": {
  "language_info": {
   "name": "python"
  }
 },
 "nbformat": 4,
 "nbformat_minor": 5
}
