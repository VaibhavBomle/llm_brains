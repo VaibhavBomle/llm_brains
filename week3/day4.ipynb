{
 "cells": [
  {
   "cell_type": "markdown",
   "id": "738d6af3",
   "metadata": {},
   "source": [
    "# Models\n",
    "\n",
    "colab link : https://colab.research.google.com/drive/1xmY8hgE1TA5mzBr5MAD76aeHFgd-JhlG"
   ]
  }
 ],
 "metadata": {
  "language_info": {
   "name": "python"
  }
 },
 "nbformat": 4,
 "nbformat_minor": 5
}
