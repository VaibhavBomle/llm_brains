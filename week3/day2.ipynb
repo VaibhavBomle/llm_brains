{
 "cells": [
  {
   "cell_type": "markdown",
   "id": "9f5ff5f6",
   "metadata": {},
   "source": [
    "\n",
    "## HuggingFace pipelines\n",
    "Exploring HuggingFace Pipelines\n",
    "\n",
    "Colab link:\n",
    "https://colab.research.google.com/drive/1OdfNPSfjFbJ7NahFXYOypJApOV9MUcdp"
   ]
  }
 ],
 "metadata": {
  "language_info": {
   "name": "python"
  }
 },
 "nbformat": 4,
 "nbformat_minor": 5
}
